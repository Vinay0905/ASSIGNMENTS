{
 "cells": [
  {
   "cell_type": "code",
   "execution_count": 1,
   "id": "34ae4854",
   "metadata": {},
   "outputs": [],
   "source": [
    "import os \n",
    "from dotenv import load_dotenv"
   ]
  },
  {
   "cell_type": "code",
   "execution_count": 2,
   "id": "d1be008e",
   "metadata": {},
   "outputs": [
    {
     "data": {
      "text/plain": [
       "True"
      ]
     },
     "execution_count": 2,
     "metadata": {},
     "output_type": "execute_result"
    }
   ],
   "source": [
    "load_dotenv()"
   ]
  },
  {
   "cell_type": "markdown",
   "id": "e8513fbf",
   "metadata": {},
   "source": []
  },
  {
   "cell_type": "code",
   "execution_count": 3,
   "id": "fdb5e0c5",
   "metadata": {},
   "outputs": [],
   "source": [
    "from langchain_google_genai import GoogleGenerativeAI"
   ]
  },
  {
   "cell_type": "code",
   "execution_count": 4,
   "id": "7aead08a",
   "metadata": {},
   "outputs": [
    {
     "data": {
      "text/plain": [
       "'Hi there! How can I help you today?'"
      ]
     },
     "execution_count": 4,
     "metadata": {},
     "output_type": "execute_result"
    }
   ],
   "source": [
    "model=GoogleGenerativeAI(model=\"gemini-1.5-flash\",api_key=os.getenv(\"GEMENI_APIKEY\"))\n",
    "model.invoke(\"HI\")"
   ]
  },
  {
   "cell_type": "code",
   "execution_count": 6,
   "id": "24ed3672",
   "metadata": {},
   "outputs": [
    {
     "data": {
      "text/plain": [
       "384"
      ]
     },
     "execution_count": 6,
     "metadata": {},
     "output_type": "execute_result"
    }
   ],
   "source": [
    "from langchain_huggingface import HuggingFaceEmbeddings\n",
    "embeddings = HuggingFaceEmbeddings(model_name=\"BAAI/bge-small-en\")\n",
    "len(embeddings.embed_query(\"hi\"))"
   ]
  },
  {
   "cell_type": "code",
   "execution_count": 7,
   "id": "b92f1d6e",
   "metadata": {},
   "outputs": [],
   "source": [
    "from langchain_community.document_loaders import TextLoader,DirectoryLoader\n",
    "from langchain_community.vectorstores import Chroma\n",
    "from langchain.text_splitter import RecursiveCharacterTextSplitter"
   ]
  },
  {
   "cell_type": "code",
   "execution_count": 8,
   "id": "7c67c59b",
   "metadata": {},
   "outputs": [],
   "source": [
    "loader=DirectoryLoader(\"../data2\",glob=\"./*.txt\",loader_cls=TextLoader)"
   ]
  },
  {
   "cell_type": "code",
   "execution_count": 9,
   "id": "a9a54e76",
   "metadata": {},
   "outputs": [],
   "source": [
    "docs=loader.load()\n"
   ]
  },
  {
   "cell_type": "code",
   "execution_count": 10,
   "id": "cb2e2196",
   "metadata": {},
   "outputs": [
    {
     "data": {
      "text/plain": [
       "\"🇺🇸 Overview of the U.S. Economy\\nThe United States of America possesses the largest economy in the world in terms of nominal GDP, making it the most powerful economic force globally. It operates under a capitalist mixed economy, where the private sector dominates, but the government plays a significant regulatory and fiscal role. With a population of over 335 million people and a high level of technological advancement, the U.S. economy thrives on a foundation of consumer spending, innovation, global trade, and financial services. It has a highly diversified structure with strong sectors in technology, healthcare, finance, real estate, defense, and agriculture.\\n\\nU.S. GDP – Size, Composition, and Global Share\\nAs of 2024, the United States’ nominal GDP is estimated to be around $28 trillion USD, accounting for approximately 25% of the global economy. It ranks #1 in the world by nominal GDP, far ahead of China (which ranks 2nd). The U.S. GDP per capita is also among the highest, hovering around $83,000, which indicates a high standard of living and productivity. In terms of Purchasing Power Parity (PPP), the U.S. ranks second, but nominal GDP is considered more reflective of actual economic size and financial influence.\\n\\nThe GDP is predominantly driven by the services sector, which contributes more than 77% to the total GDP. This includes industries such as finance, insurance, real estate, healthcare, education, and information technology. The industrial sector (manufacturing, construction, mining) makes up around 19%, while agriculture, although technologically advanced and export-oriented, contributes only about 1%. Despite its small share in GDP, U.S. agriculture is globally significant in terms of productivity and exports.\\n\\nGDP Growth Trends and Dynamics\\nHistorically, the U.S. economy has enjoyed consistent long-term growth, averaging around 2-3% annually. Post-pandemic, the economy bounced back strongly, but 2022 and 2023 saw rising inflation due to supply chain issues and stimulus-driven demand. In 2024, the U.S. GDP grew at a modest pace of around 2.1%, as the Federal Reserve’s interest rate hikes aimed at controlling inflation also moderated economic expansion. Consumer spending, which makes up nearly 70% of GDP, remains a dominant force in economic stability.\\n\\nThe U.S. maintains its GDP growth through strong innovation, entrepreneurship, and investment in R&D. With companies like Apple, Google, Amazon, Microsoft, and Tesla leading global markets, the U.S. consistently produces high value across sectors, especially in technology and advanced services. Additionally, the economy benefits from intellectual property exports, financial services, and higher education, all of which contribute significantly to GDP through both domestic and international markets.\\n\\nRole in the Global Economy\\nThe U.S. Dollar (USD) is the global reserve currency, held by over 60% of the world’s central bank reserves. This gives the U.S. an enormous advantage in global trade and borrowing. The U.S. is a key member of international institutions like the World Bank, IMF, G7, G20, and WTO, and plays a central role in setting global economic policy.\\n\\nAs a global innovation hub, the U.S. attracts billions in foreign investment and hosts many of the world's largest and most valuable companies. Its exports include high-tech machinery, aircraft, pharmaceuticals, semiconductors, and financial services, while its imports cover consumer goods, electronics, automobiles, and industrial materials. The trade deficit remains large (around $900 billion in 2024), primarily because the U.S. consumes more than it exports, but its ability to finance this through capital inflows and reserve currency status sustains balance.\\n\\nKey Economic Strengths\\nThe core strength of the U.S. economy lies in its flexible labor market, deep capital markets, technological superiority, and legal system that encourages innovation and property rights. It has a large, highly educated workforce, a diverse immigration pipeline, and access to vast natural resources including oil, gas, coal, and farmland. The presence of top-tier universities and research institutions fuels the knowledge economy, with billions spent annually on R&D—over $700 billion USD, more than any other country.\\n\\nThe U.S. leads in many critical sectors, including software, biotechnology, aerospace, defense, financial services, and media. Its startup ecosystem, especially in Silicon Valley, produces unicorns and tech giants at a scale unmatched globally. Its financial markets—particularly Wall Street—are the most liquid and globally integrated in the world.\\n\\nChallenges and Structural Issues\\nDespite its strength, the U.S. economy faces several serious long-term issues. The national debt has surpassed $34 trillion USD, raising concerns about fiscal sustainability, especially as interest payments alone are growing rapidly. The income and wealth inequality gap has widened, with a small percentage of Americans owning a disproportionate share of wealth. Access to affordable healthcare, housing shortages, and a declining labor force participation in some sectors are additional structural issues.\\n\\nAnother growing concern is political polarization, which often stalls crucial economic reforms and budget agreements, as seen in recurrent debt ceiling crises. The U.S. also faces challenges from global competition, especially from China in areas like AI, semiconductors, and green technology. Moreover, climate change, cybersecurity threats, and geopolitical risks (like Ukraine and Taiwan conflicts) add layers of vulnerability to economic planning.\\n\\nFuture Outlook (2025–2030)\\nLooking forward, the U.S. economy is expected to grow at a moderate pace, powered by innovation in AI, green energy, robotics, biotech, and quantum computing. The Biden administration’s Inflation Reduction Act and CHIPS Act are pumping massive investments into semiconductors, clean energy, and infrastructure. There is a strong push for reshoring of manufacturing, especially in critical sectors like chips, pharmaceuticals, and batteries.\\n\\nHowever, economic leadership will depend on managing the national debt, reforming entitlement programs, upgrading infrastructure, and ensuring the next generation is equipped with digital-age skills. If the U.S. can handle these challenges, it is well-positioned to remain a global economic powerhouse through 2030 and beyond.\\n\\nFinal Summary\\nThe U.S. economy remains the engine of global growth, backed by unmatched innovation, financial dominance, and a strong institutional framework. Its $28 trillion GDP and influence over global finance, trade, and technology make it the centerpiece of the modern economic system. Yet, rising debt, inequality, political gridlock, and competition from emerging powers demand careful policy navigation. If successfully addressed, the U.S. will continue to dominate the global economy well into the future.\""
      ]
     },
     "execution_count": 10,
     "metadata": {},
     "output_type": "execute_result"
    }
   ],
   "source": [
    "docs[0].page_content"
   ]
  },
  {
   "cell_type": "code",
   "execution_count": 11,
   "id": "a5aeb8d1",
   "metadata": {},
   "outputs": [],
   "source": [
    "text_splitter=RecursiveCharacterTextSplitter(\n",
    "    chunk_size=200,\n",
    "    chunk_overlap=20\n",
    ")"
   ]
  },
  {
   "cell_type": "code",
   "execution_count": 12,
   "id": "549eb181",
   "metadata": {},
   "outputs": [],
   "source": [
    "new_docs=text_splitter.split_documents(documents=docs)"
   ]
  },
  {
   "cell_type": "code",
   "execution_count": 13,
   "id": "0bb3f7bc",
   "metadata": {},
   "outputs": [
    {
     "data": {
      "text/plain": [
       "[Document(metadata={'source': '..\\\\data2\\\\usa.txt'}, page_content='🇺🇸 Overview of the U.S. Economy'),\n",
       " Document(metadata={'source': '..\\\\data2\\\\usa.txt'}, page_content='The United States of America possesses the largest economy in the world in terms of nominal GDP, making it the most powerful economic force globally. It operates under a capitalist mixed economy,'),\n",
       " Document(metadata={'source': '..\\\\data2\\\\usa.txt'}, page_content='mixed economy, where the private sector dominates, but the government plays a significant regulatory and fiscal role. With a population of over 335 million people and a high level of technological'),\n",
       " Document(metadata={'source': '..\\\\data2\\\\usa.txt'}, page_content='of technological advancement, the U.S. economy thrives on a foundation of consumer spending, innovation, global trade, and financial services. It has a highly diversified structure with strong'),\n",
       " Document(metadata={'source': '..\\\\data2\\\\usa.txt'}, page_content='with strong sectors in technology, healthcare, finance, real estate, defense, and agriculture.'),\n",
       " Document(metadata={'source': '..\\\\data2\\\\usa.txt'}, page_content='U.S. GDP – Size, Composition, and Global Share'),\n",
       " Document(metadata={'source': '..\\\\data2\\\\usa.txt'}, page_content='As of 2024, the United States’ nominal GDP is estimated to be around $28 trillion USD, accounting for approximately 25% of the global economy. It ranks #1 in the world by nominal GDP, far ahead of'),\n",
       " Document(metadata={'source': '..\\\\data2\\\\usa.txt'}, page_content='GDP, far ahead of China (which ranks 2nd). The U.S. GDP per capita is also among the highest, hovering around $83,000, which indicates a high standard of living and productivity. In terms of'),\n",
       " Document(metadata={'source': '..\\\\data2\\\\usa.txt'}, page_content='In terms of Purchasing Power Parity (PPP), the U.S. ranks second, but nominal GDP is considered more reflective of actual economic size and financial influence.'),\n",
       " Document(metadata={'source': '..\\\\data2\\\\usa.txt'}, page_content='The GDP is predominantly driven by the services sector, which contributes more than 77% to the total GDP. This includes industries such as finance, insurance, real estate, healthcare, education, and'),\n",
       " Document(metadata={'source': '..\\\\data2\\\\usa.txt'}, page_content='education, and information technology. The industrial sector (manufacturing, construction, mining) makes up around 19%, while agriculture, although technologically advanced and export-oriented,'),\n",
       " Document(metadata={'source': '..\\\\data2\\\\usa.txt'}, page_content='export-oriented, contributes only about 1%. Despite its small share in GDP, U.S. agriculture is globally significant in terms of productivity and exports.'),\n",
       " Document(metadata={'source': '..\\\\data2\\\\usa.txt'}, page_content='GDP Growth Trends and Dynamics'),\n",
       " Document(metadata={'source': '..\\\\data2\\\\usa.txt'}, page_content='Historically, the U.S. economy has enjoyed consistent long-term growth, averaging around 2-3% annually. Post-pandemic, the economy bounced back strongly, but 2022 and 2023 saw rising inflation due to'),\n",
       " Document(metadata={'source': '..\\\\data2\\\\usa.txt'}, page_content='inflation due to supply chain issues and stimulus-driven demand. In 2024, the U.S. GDP grew at a modest pace of around 2.1%, as the Federal Reserve’s interest rate hikes aimed at controlling'),\n",
       " Document(metadata={'source': '..\\\\data2\\\\usa.txt'}, page_content='at controlling inflation also moderated economic expansion. Consumer spending, which makes up nearly 70% of GDP, remains a dominant force in economic stability.'),\n",
       " Document(metadata={'source': '..\\\\data2\\\\usa.txt'}, page_content='The U.S. maintains its GDP growth through strong innovation, entrepreneurship, and investment in R&D. With companies like Apple, Google, Amazon, Microsoft, and Tesla leading global markets, the U.S.'),\n",
       " Document(metadata={'source': '..\\\\data2\\\\usa.txt'}, page_content='markets, the U.S. consistently produces high value across sectors, especially in technology and advanced services. Additionally, the economy benefits from intellectual property exports, financial'),\n",
       " Document(metadata={'source': '..\\\\data2\\\\usa.txt'}, page_content='exports, financial services, and higher education, all of which contribute significantly to GDP through both domestic and international markets.'),\n",
       " Document(metadata={'source': '..\\\\data2\\\\usa.txt'}, page_content='Role in the Global Economy'),\n",
       " Document(metadata={'source': '..\\\\data2\\\\usa.txt'}, page_content='The U.S. Dollar (USD) is the global reserve currency, held by over 60% of the world’s central bank reserves. This gives the U.S. an enormous advantage in global trade and borrowing. The U.S. is a key'),\n",
       " Document(metadata={'source': '..\\\\data2\\\\usa.txt'}, page_content='The U.S. is a key member of international institutions like the World Bank, IMF, G7, G20, and WTO, and plays a central role in setting global economic policy.'),\n",
       " Document(metadata={'source': '..\\\\data2\\\\usa.txt'}, page_content=\"As a global innovation hub, the U.S. attracts billions in foreign investment and hosts many of the world's largest and most valuable companies. Its exports include high-tech machinery, aircraft,\"),\n",
       " Document(metadata={'source': '..\\\\data2\\\\usa.txt'}, page_content='aircraft, pharmaceuticals, semiconductors, and financial services, while its imports cover consumer goods, electronics, automobiles, and industrial materials. The trade deficit remains large (around'),\n",
       " Document(metadata={'source': '..\\\\data2\\\\usa.txt'}, page_content='large (around $900 billion in 2024), primarily because the U.S. consumes more than it exports, but its ability to finance this through capital inflows and reserve currency status sustains balance.'),\n",
       " Document(metadata={'source': '..\\\\data2\\\\usa.txt'}, page_content='Key Economic Strengths'),\n",
       " Document(metadata={'source': '..\\\\data2\\\\usa.txt'}, page_content='The core strength of the U.S. economy lies in its flexible labor market, deep capital markets, technological superiority, and legal system that encourages innovation and property rights. It has a'),\n",
       " Document(metadata={'source': '..\\\\data2\\\\usa.txt'}, page_content='rights. It has a large, highly educated workforce, a diverse immigration pipeline, and access to vast natural resources including oil, gas, coal, and farmland. The presence of top-tier universities'),\n",
       " Document(metadata={'source': '..\\\\data2\\\\usa.txt'}, page_content='universities and research institutions fuels the knowledge economy, with billions spent annually on R&D—over $700 billion USD, more than any other country.'),\n",
       " Document(metadata={'source': '..\\\\data2\\\\usa.txt'}, page_content='The U.S. leads in many critical sectors, including software, biotechnology, aerospace, defense, financial services, and media. Its startup ecosystem, especially in Silicon Valley, produces unicorns'),\n",
       " Document(metadata={'source': '..\\\\data2\\\\usa.txt'}, page_content='produces unicorns and tech giants at a scale unmatched globally. Its financial markets—particularly Wall Street—are the most liquid and globally integrated in the world.'),\n",
       " Document(metadata={'source': '..\\\\data2\\\\usa.txt'}, page_content='Challenges and Structural Issues'),\n",
       " Document(metadata={'source': '..\\\\data2\\\\usa.txt'}, page_content='Despite its strength, the U.S. economy faces several serious long-term issues. The national debt has surpassed $34 trillion USD, raising concerns about fiscal sustainability, especially as interest'),\n",
       " Document(metadata={'source': '..\\\\data2\\\\usa.txt'}, page_content='as interest payments alone are growing rapidly. The income and wealth inequality gap has widened, with a small percentage of Americans owning a disproportionate share of wealth. Access to affordable'),\n",
       " Document(metadata={'source': '..\\\\data2\\\\usa.txt'}, page_content='to affordable healthcare, housing shortages, and a declining labor force participation in some sectors are additional structural issues.'),\n",
       " Document(metadata={'source': '..\\\\data2\\\\usa.txt'}, page_content='Another growing concern is political polarization, which often stalls crucial economic reforms and budget agreements, as seen in recurrent debt ceiling crises. The U.S. also faces challenges from'),\n",
       " Document(metadata={'source': '..\\\\data2\\\\usa.txt'}, page_content='challenges from global competition, especially from China in areas like AI, semiconductors, and green technology. Moreover, climate change, cybersecurity threats, and geopolitical risks (like Ukraine'),\n",
       " Document(metadata={'source': '..\\\\data2\\\\usa.txt'}, page_content='risks (like Ukraine and Taiwan conflicts) add layers of vulnerability to economic planning.'),\n",
       " Document(metadata={'source': '..\\\\data2\\\\usa.txt'}, page_content='Future Outlook (2025–2030)'),\n",
       " Document(metadata={'source': '..\\\\data2\\\\usa.txt'}, page_content='Looking forward, the U.S. economy is expected to grow at a moderate pace, powered by innovation in AI, green energy, robotics, biotech, and quantum computing. The Biden administration’s Inflation'),\n",
       " Document(metadata={'source': '..\\\\data2\\\\usa.txt'}, page_content='Inflation Reduction Act and CHIPS Act are pumping massive investments into semiconductors, clean energy, and infrastructure. There is a strong push for reshoring of manufacturing, especially in'),\n",
       " Document(metadata={'source': '..\\\\data2\\\\usa.txt'}, page_content='especially in critical sectors like chips, pharmaceuticals, and batteries.'),\n",
       " Document(metadata={'source': '..\\\\data2\\\\usa.txt'}, page_content='However, economic leadership will depend on managing the national debt, reforming entitlement programs, upgrading infrastructure, and ensuring the next generation is equipped with digital-age skills.'),\n",
       " Document(metadata={'source': '..\\\\data2\\\\usa.txt'}, page_content='digital-age skills. If the U.S. can handle these challenges, it is well-positioned to remain a global economic powerhouse through 2030 and beyond.'),\n",
       " Document(metadata={'source': '..\\\\data2\\\\usa.txt'}, page_content='Final Summary'),\n",
       " Document(metadata={'source': '..\\\\data2\\\\usa.txt'}, page_content='The U.S. economy remains the engine of global growth, backed by unmatched innovation, financial dominance, and a strong institutional framework. Its $28 trillion GDP and influence over global'),\n",
       " Document(metadata={'source': '..\\\\data2\\\\usa.txt'}, page_content='over global finance, trade, and technology make it the centerpiece of the modern economic system. Yet, rising debt, inequality, political gridlock, and competition from emerging powers demand careful'),\n",
       " Document(metadata={'source': '..\\\\data2\\\\usa.txt'}, page_content='demand careful policy navigation. If successfully addressed, the U.S. will continue to dominate the global economy well into the future.')]"
      ]
     },
     "execution_count": 13,
     "metadata": {},
     "output_type": "execute_result"
    }
   ],
   "source": [
    "new_docs"
   ]
  },
  {
   "cell_type": "code",
   "execution_count": 14,
   "id": "8e22f164",
   "metadata": {},
   "outputs": [
    {
     "data": {
      "text/plain": [
       "48"
      ]
     },
     "execution_count": 14,
     "metadata": {},
     "output_type": "execute_result"
    }
   ],
   "source": [
    "len(new_docs)"
   ]
  },
  {
   "cell_type": "code",
   "execution_count": 15,
   "id": "c1b166e2",
   "metadata": {},
   "outputs": [],
   "source": [
    "db=Chroma.from_documents(new_docs,embeddings)"
   ]
  },
  {
   "cell_type": "code",
   "execution_count": 16,
   "id": "cf6757c9",
   "metadata": {},
   "outputs": [],
   "source": [
    "retriever=db.as_retriever(search_kwargs={\"k\":3})"
   ]
  },
  {
   "cell_type": "code",
   "execution_count": 17,
   "id": "3f819a09",
   "metadata": {},
   "outputs": [
    {
     "data": {
      "text/plain": [
       "[Document(metadata={'source': '..\\\\data2\\\\usa.txt'}, page_content='🇺🇸 Overview of the U.S. Economy'),\n",
       " Document(metadata={'source': '..\\\\data2\\\\usa.txt'}, page_content='Looking forward, the U.S. economy is expected to grow at a moderate pace, powered by innovation in AI, green energy, robotics, biotech, and quantum computing. The Biden administration’s Inflation'),\n",
       " Document(metadata={'source': '..\\\\data2\\\\usa.txt'}, page_content='The U.S. economy remains the engine of global growth, backed by unmatched innovation, financial dominance, and a strong institutional framework. Its $28 trillion GDP and influence over global')]"
      ]
     },
     "execution_count": 17,
     "metadata": {},
     "output_type": "execute_result"
    }
   ],
   "source": [
    "retriever.invoke(\"Industrial growth of usa\")"
   ]
  },
  {
   "cell_type": "code",
   "execution_count": 18,
   "id": "75ddb822",
   "metadata": {},
   "outputs": [],
   "source": [
    "import operator\n",
    "from typing import List\n",
    "from pydantic import BaseModel , Field\n",
    "from langchain.prompts import PromptTemplate\n",
    "from typing import TypedDict, Annotated, Sequence\n",
    "from langchain_core.messages import BaseMessage\n",
    "from langchain_core.output_parsers import StrOutputParser\n",
    "from langchain_core.prompts import ChatPromptTemplate, PromptTemplate\n",
    "from langchain_core.runnables import RunnablePassthrough\n",
    "from langchain_core.messages import HumanMessage, AIMessage\n",
    "from langgraph.graph import StateGraph,END"
   ]
  },
  {
   "cell_type": "code",
   "execution_count": 19,
   "id": "a6f4124d",
   "metadata": {},
   "outputs": [],
   "source": [
    "class TopicSelectionParser(BaseModel):\n",
    "    Topic:str=Field(description=\"selected Topic\")\n",
    "    Reasoning:str=Field(description=\"selected Topic\")"
   ]
  },
  {
   "cell_type": "code",
   "execution_count": 20,
   "id": "7f62951d",
   "metadata": {},
   "outputs": [],
   "source": [
    "from langchain.output_parsers import PydanticOutputParser"
   ]
  },
  {
   "cell_type": "code",
   "execution_count": 21,
   "id": "1cb89e83",
   "metadata": {},
   "outputs": [],
   "source": [
    "parser=PydanticOutputParser(pydantic_object=TopicSelectionParser)"
   ]
  },
  {
   "cell_type": "code",
   "execution_count": 22,
   "id": "9bae7afb",
   "metadata": {},
   "outputs": [
    {
     "data": {
      "text/plain": [
       "'The output should be formatted as a JSON instance that conforms to the JSON schema below.\\n\\nAs an example, for the schema {\"properties\": {\"foo\": {\"title\": \"Foo\", \"description\": \"a list of strings\", \"type\": \"array\", \"items\": {\"type\": \"string\"}}}, \"required\": [\"foo\"]}\\nthe object {\"foo\": [\"bar\", \"baz\"]} is a well-formatted instance of the schema. The object {\"properties\": {\"foo\": [\"bar\", \"baz\"]}} is not well-formatted.\\n\\nHere is the output schema:\\n```\\n{\"properties\": {\"Topic\": {\"description\": \"selected Topic\", \"title\": \"Topic\", \"type\": \"string\"}, \"Reasoning\": {\"description\": \"selected Topic\", \"title\": \"Reasoning\", \"type\": \"string\"}}, \"required\": [\"Topic\", \"Reasoning\"]}\\n```'"
      ]
     },
     "execution_count": 22,
     "metadata": {},
     "output_type": "execute_result"
    }
   ],
   "source": [
    "parser.get_format_instructions()"
   ]
  },
  {
   "cell_type": "code",
   "execution_count": 25,
   "id": "e0bfe420",
   "metadata": {},
   "outputs": [],
   "source": [
    "from langchain.prompts import PromptTemplate"
   ]
  },
  {
   "cell_type": "code",
   "execution_count": 756,
   "id": "0b86ec05",
   "metadata": {},
   "outputs": [],
   "source": [
    "class AgentState(TypedDict):\n",
    "    messages:Annotated[Sequence[BaseModel],operator.add]"
   ]
  },
  {
   "cell_type": "code",
   "execution_count": 757,
   "id": "e8795068",
   "metadata": {},
   "outputs": [],
   "source": [
    "def Supervisor(state:AgentState):\n",
    "    question=state[\"messages\"][-1]\n",
    "    print(\"Question: \",question)\n",
    "    template=\"\"\"\n",
    "    Your task is to classify the given user query into one of the following categories: [USA,Not Related,Websurfing needed]. \n",
    "    Only respond with the category name and nothing else.\n",
    "\n",
    "    User query: {question}\n",
    "    {format_instructions}\n",
    "    \"\"\"\n",
    "\n",
    "    prompt=PromptTemplate(\n",
    "        template=template,\n",
    "        input_variables=[\"question\"],\n",
    "        partial_variables={\"format_instructions\":parser.get_format_instructions()}\n",
    "    )\n",
    "    chain=prompt|model|parser\n",
    "    response=chain.invoke({\"question\":question})\n",
    "    print(\"Parsed response: \",response)\n",
    "\n",
    "    return{\"messages\":[response.Topic]}\n"
   ]
  },
  {
   "cell_type": "code",
   "execution_count": 758,
   "id": "dc4cc148",
   "metadata": {},
   "outputs": [],
   "source": [
    "state={\"messages\":[\"According to the web what is the most dangerous place on earth\"]}"
   ]
  },
  {
   "cell_type": "code",
   "execution_count": 759,
   "id": "417e9f94",
   "metadata": {},
   "outputs": [
    {
     "name": "stdout",
     "output_type": "stream",
     "text": [
      "Question:  According to the web what is the most dangerous place on earth\n",
      "Parsed response:  Topic='Websurfing needed' Reasoning='The query explicitly asks for information from the web.'\n"
     ]
    },
    {
     "data": {
      "text/plain": [
       "{'messages': ['Websurfing needed']}"
      ]
     },
     "execution_count": 759,
     "metadata": {},
     "output_type": "execute_result"
    }
   ],
   "source": [
    "Supervisor(state)"
   ]
  },
  {
   "cell_type": "code",
   "execution_count": 760,
   "id": "2bf4dd9d",
   "metadata": {},
   "outputs": [
    {
     "name": "stdout",
     "output_type": "stream",
     "text": [
      "Question:  What is the GDP of USA?\n",
      "Parsed response:  Topic='USA' Reasoning='The query explicitly asks for the GDP of the USA.'\n"
     ]
    },
    {
     "data": {
      "text/plain": [
       "{'messages': ['USA']}"
      ]
     },
     "execution_count": 760,
     "metadata": {},
     "output_type": "execute_result"
    }
   ],
   "source": [
    "state={\"messages\":[\"What is the GDP of USA?\"]}\n",
    "Supervisor(state)"
   ]
  },
  {
   "cell_type": "code",
   "execution_count": 761,
   "id": "cfbcc127",
   "metadata": {},
   "outputs": [],
   "source": [
    "def Router(state: AgentState):\n",
    "    print(\"->ROUTER->\")\n",
    "    last_message = state[\"messages\"][-1]\n",
    "    print(\"last_message:\", last_message)\n",
    "\n",
    "    if \"usa\" in last_message.lower():\n",
    "        return \"RAG Call\"\n",
    "    elif \"not related\" in last_message.lower():\n",
    "        return \"LLM Call\"\n",
    "    elif \"web\" in last_message.lower():\n",
    "        return \"WEB Call\"\n",
    "    else:\n",
    "        return \"LLM Call\""
   ]
  },
  {
   "cell_type": "code",
   "execution_count": 762,
   "id": "98fa4c6f",
   "metadata": {},
   "outputs": [],
   "source": [
    "def format_docs(docs):\n",
    "    return \"\\n\\n\".join(doc.page_content for doc in docs)"
   ]
  },
  {
   "cell_type": "code",
   "execution_count": 763,
   "id": "495710d6",
   "metadata": {},
   "outputs": [],
   "source": [
    "def RAG(state:AgentState):\n",
    "    print(\"->RAG Call->\")\n",
    "    question=state[\"messages\"][-1]\n",
    "    prompt=PromptTemplate(\n",
    "        template=\"\"\"You are an assistant for question-answering tasks. Use the following pieces of retrieved context to answer the question. If you don't know the answer, just say that you don't know. Use three sentences maximum and keep the answer concise.\\nQuestion: {question} \\nContext: {context} \\nAnswer:\"\"\",\n",
    "        \n",
    "        input_variables=['context', 'question']\n",
    "    )\n",
    "    rag_chain=(\n",
    "        {\"context\":retriever|format_docs,\"question\":RunnablePassthrough()}|prompt|model|StrOutputParser()\n",
    "    )\n",
    "    result=rag_chain.invoke(question)\n",
    "    return {\"messages\":[result]}\n"
   ]
  },
  {
   "cell_type": "code",
   "execution_count": 764,
   "id": "0714360d",
   "metadata": {},
   "outputs": [],
   "source": [
    "def LLM(state: AgentState):\n",
    "    print(\"->LLM Call->\")\n",
    "    question=state[\"messages\"][0]\n",
    "    complete_query=\"Answer the following question with your knowledge of the real world . Following is the user question: \"+question\n",
    "    response=model.invoke(complete_query)\n",
    "    return {\"messages\":[response]}"
   ]
  },
  {
   "cell_type": "code",
   "execution_count": 765,
   "id": "b8f64ae8",
   "metadata": {},
   "outputs": [],
   "source": [
    "from langchain_community.tools import TavilySearchResults"
   ]
  },
  {
   "cell_type": "code",
   "execution_count": 766,
   "id": "4c170eb2",
   "metadata": {},
   "outputs": [],
   "source": [
    "TAVILY_API_KEY=os.getenv(\"TAVILY_API_KEY\")"
   ]
  },
  {
   "cell_type": "code",
   "execution_count": 767,
   "id": "809fa8ed",
   "metadata": {},
   "outputs": [],
   "source": [
    "web_crawler=TavilySearchResults(tavily_api_key=TAVILY_API_KEY)"
   ]
  },
  {
   "cell_type": "code",
   "execution_count": 768,
   "id": "0a99b382",
   "metadata": {},
   "outputs": [],
   "source": [
    "def WEB(state: AgentState):\n",
    "    print(\"->WEB Call->\")\n",
    "    question = state[\"messages\"][0]\n",
    "\n",
    "    result=web_crawler.invoke({\"query\":question})\n",
    "\n",
    "    return {\"messages\":[result[0][\"content\"]]}\n",
    "    #return type(result)"
   ]
  },
  {
   "cell_type": "code",
   "execution_count": 769,
   "id": "f6009668",
   "metadata": {},
   "outputs": [
    {
     "name": "stdout",
     "output_type": "stream",
     "text": [
      "->WEB Call->\n"
     ]
    },
    {
     "data": {
      "text/plain": [
       "{'messages': ['| Country/Economy | [Real GDP](/wiki/Real_gross_domestic_product \"Real gross domestic product\") | Agri. | Indus. | Serv. |\\n| --- | --- | --- | --- | --- |\\n| **World** | 60,093,221 | 1,968,215 | 16,453,140 | 38,396,695 |\\n| [United States](/wiki/United_States \"United States\") | 15,160,104 | 149,023 | 3,042,332 | 11,518,980 |\\n\\nNominal GDP Sector Composition, 2016 (in millions of dollars) at current prices.[[142]](#cite_note-142) [...] | Country/Economy | [Nominal GDP](/wiki/List_of_countries_by_GDP_(nominal) \"List of countries by GDP (nominal)\") | Agri. | Indus. | Serv. |\\n| --- | --- | --- | --- | --- |\\n| [United States](/wiki/United_States \"United States\") | 18,624,450 | 204,868.95 | 3,613,143.3 | 14,806,437.75 |\\n| \\\\*Percentages from [CIA World Factbook](/wiki/The_World_Factbook \"The World Factbook\")[[143]](#cite_note-143) | | | | | |\\n\\n## Employment [...] U.S. nominal GDP was $19.5\\xa0trillion in 2017, the largest in the world. Annualized, nominal GDP reached $20.1\\xa0trillion in Q1 2018, the first time it exceeded $20\\xa0trillion. About 70% of U.S. GDP is personal consumption, with business investment 18%, government 17% (federal, state and local but excluding transfer payments such as Social Security, which is in consumption) and net exports a negative 3% due to the U.S. trade deficit.[[133]](#cite_note-133) Real [gross domestic']}"
      ]
     },
     "execution_count": 769,
     "metadata": {},
     "output_type": "execute_result"
    }
   ],
   "source": [
    "WEB(state)"
   ]
  },
  {
   "cell_type": "code",
   "execution_count": 770,
   "id": "602d0cda",
   "metadata": {},
   "outputs": [],
   "source": [
    "def Validator(state:AgentState):\n",
    "    print(\"->Validator->\")\n",
    "    ans=state[\"messages\"][-1].lower()\n",
    "    if \"i don't know\" in ans or len(ans.strip()) < 10:\n",
    "        return {\"messages\":[\"retry\"]}\n",
    "    \n",
    "    return {\"messages\":[ans]}\n",
    "    "
   ]
  },
  {
   "cell_type": "code",
   "execution_count": 771,
   "id": "b5638164",
   "metadata": {},
   "outputs": [],
   "source": [
    "def retryRouter(state: AgentState):\n",
    "    print(\"->IN RETRY ROUTER->\")\n",
    "\n",
    "    msg = state[\"messages\"][-1]\n",
    "    if msg == \"retry\":\n",
    "        return \"Supervisor\"\n",
    "    return \"Final\""
   ]
  },
  {
   "cell_type": "code",
   "execution_count": 772,
   "id": "a90fb0c0",
   "metadata": {},
   "outputs": [],
   "source": [
    "def finalNode(state:AgentState):\n",
    "    print(\"->IN Final Node->\")\n",
    "    return {\"messages\": [f\"✅ Final Answer: {state['messages'][-1]}\"]}"
   ]
  },
  {
   "cell_type": "code",
   "execution_count": 773,
   "id": "2a66a612",
   "metadata": {},
   "outputs": [],
   "source": [
    "workflow=StateGraph(AgentState)"
   ]
  },
  {
   "cell_type": "code",
   "execution_count": 774,
   "id": "cc25c44c",
   "metadata": {},
   "outputs": [
    {
     "data": {
      "text/plain": [
       "<langgraph.graph.state.StateGraph at 0x1cab53951d0>"
      ]
     },
     "execution_count": 774,
     "metadata": {},
     "output_type": "execute_result"
    }
   ],
   "source": [
    "workflow.add_node(\"Supervisor\",Supervisor)\n",
    "workflow.add_node(\"RAG\",RAG)\n",
    "workflow.add_node(\"LLM\",LLM)\n",
    "workflow.add_node(\"WEB\",WEB)\n",
    "workflow.add_node(\"Validator\",Validator)\n",
    "workflow.add_node(\"Final\",finalNode)\n",
    "\n"
   ]
  },
  {
   "cell_type": "code",
   "execution_count": 775,
   "id": "27ad4e91",
   "metadata": {},
   "outputs": [
    {
     "data": {
      "text/plain": [
       "<langgraph.graph.state.StateGraph at 0x1cab53951d0>"
      ]
     },
     "execution_count": 775,
     "metadata": {},
     "output_type": "execute_result"
    }
   ],
   "source": [
    "workflow.set_entry_point(\"Supervisor\")"
   ]
  },
  {
   "cell_type": "code",
   "execution_count": 776,
   "id": "840478e0",
   "metadata": {},
   "outputs": [
    {
     "data": {
      "text/plain": [
       "<langgraph.graph.state.StateGraph at 0x1cab53951d0>"
      ]
     },
     "execution_count": 776,
     "metadata": {},
     "output_type": "execute_result"
    }
   ],
   "source": [
    "workflow.add_conditional_edges(\n",
    "    \"Supervisor\",\n",
    "    Router,\n",
    "    {\n",
    "        \"RAG Call\": \"RAG\",\n",
    "        \"LLM Call\": \"LLM\",\n",
    "        \"WEB Call\": \"WEB\"\n",
    "    }\n",
    ")"
   ]
  },
  {
   "cell_type": "code",
   "execution_count": 777,
   "id": "7053acad",
   "metadata": {},
   "outputs": [
    {
     "data": {
      "text/plain": [
       "<langgraph.graph.state.StateGraph at 0x1cab53951d0>"
      ]
     },
     "execution_count": 777,
     "metadata": {},
     "output_type": "execute_result"
    }
   ],
   "source": [
    "workflow.add_edge(\"RAG\",\"Validator\")\n",
    "workflow.add_edge(\"LLM\",\"Validator\")\n",
    "workflow.add_edge(\"WEB\",\"Validator\")"
   ]
  },
  {
   "cell_type": "code",
   "execution_count": 778,
   "id": "9139b47f",
   "metadata": {},
   "outputs": [
    {
     "data": {
      "text/plain": [
       "<langgraph.graph.state.StateGraph at 0x1cab53951d0>"
      ]
     },
     "execution_count": 778,
     "metadata": {},
     "output_type": "execute_result"
    }
   ],
   "source": [
    "workflow.add_conditional_edges(\n",
    "    \"Validator\",\n",
    "    retryRouter,\n",
    "    {\n",
    "        \"Supervisor\": \"Supervisor\",\n",
    "        \"Final\": \"Final\"\n",
    "    }\n",
    ")"
   ]
  },
  {
   "cell_type": "code",
   "execution_count": 779,
   "id": "f8ceaa7e",
   "metadata": {},
   "outputs": [
    {
     "data": {
      "text/plain": [
       "<langgraph.graph.state.StateGraph at 0x1cab53951d0>"
      ]
     },
     "execution_count": 779,
     "metadata": {},
     "output_type": "execute_result"
    }
   ],
   "source": [
    "workflow.add_edge(\"Final\",END)\n"
   ]
  },
  {
   "cell_type": "code",
   "execution_count": 780,
   "id": "8d033eae",
   "metadata": {},
   "outputs": [],
   "source": [
    "app = workflow.compile()\n",
    "\n"
   ]
  },
  {
   "cell_type": "code",
   "execution_count": 781,
   "id": "d5b08c90",
   "metadata": {},
   "outputs": [],
   "source": [
    "from IPython.display import Image\n"
   ]
  },
  {
   "cell_type": "code",
   "execution_count": 782,
   "id": "1e413658",
   "metadata": {},
   "outputs": [
    {
     "data": {
      "image/png": "[encoded data removed]",
      "text/plain": [
       "<IPython.core.display.Image object>"
      ]
     },
     "metadata": {},
     "output_type": "display_data"
    }
   ],
   "source": [
    "display(Image(app.get_graph().draw_mermaid_png()))\n"
   ]
  },
  {
   "cell_type": "code",
   "execution_count": 783,
   "id": "4aa37e6b",
   "metadata": {},
   "outputs": [],
   "source": [
    "state = {\"messages\":[\"Hi!\"]}"
   ]
  },
  {
   "cell_type": "code",
   "execution_count": 784,
   "id": "427270a4",
   "metadata": {},
   "outputs": [],
   "source": [
    "state = {\"messages\":[\"From Web tell me about RCB\"]}"
   ]
  },
  {
   "cell_type": "code",
   "execution_count": 785,
   "id": "da148bfb",
   "metadata": {},
   "outputs": [
    {
     "name": "stdout",
     "output_type": "stream",
     "text": [
      "Question:  From Web tell me about RCB\n",
      "Parsed response:  Topic='Websurfing needed' Reasoning='The query explicitly requests information from the web, indicating a need for web surfing to answer the question about RCB.'\n",
      "->ROUTER->\n",
      "last_message: Websurfing needed\n",
      "->WEB Call->\n",
      "->Validator->\n",
      "->IN RETRY ROUTER->\n",
      "->IN Final Node->\n"
     ]
    },
    {
     "data": {
      "text/plain": [
       "{'messages': ['From Web tell me about RCB',\n",
       "  'Websurfing needed',\n",
       "  '**Royal Challengers Bengaluru**, formerly known as **Royal Challengers Bangalore**, commonly known as **RCB**, is a professional [franchise cricket](https://en.wikipedia.org/wiki/Cricket \"Cricket\") team based in [Bengaluru](https://en.wikipedia.org/wiki/Bengaluru \"Bengaluru\"), [Karnataka](https://en.wikipedia.org/wiki/Karnataka \"Karnataka\"), competing in the [Indian Premier League](https://en.wikipedia.org/wiki/Indian_Premier_League \"Indian Premier League\"). Founded in 2008 by [United [...] Spirits](https://en.wikipedia.org/wiki/United_Spirits \"United Spirits\"), currently managed by Prathamesh Mishra, the team is named after the liquor brand, [Royal Challenge](https://en.wikipedia.org/wiki/Royal_Challenge \"Royal Challenge\"). The [M. Chinnaswamy Stadium](https://en.wikipedia.org/wiki/M._Chinnaswamy_Stadium \"M. Chinnaswamy Stadium\") in Bengaluru is their home ground. It is the most popular and followed cricket franchise with more than 18 million followers on [...] |',\n",
       "  '**royal challengers bengaluru**, formerly known as **royal challengers bangalore**, commonly known as **rcb**, is a professional [franchise cricket](https://en.wikipedia.org/wiki/cricket \"cricket\") team based in [bengaluru](https://en.wikipedia.org/wiki/bengaluru \"bengaluru\"), [karnataka](https://en.wikipedia.org/wiki/karnataka \"karnataka\"), competing in the [indian premier league](https://en.wikipedia.org/wiki/indian_premier_league \"indian premier league\"). founded in 2008 by [united [...] spirits](https://en.wikipedia.org/wiki/united_spirits \"united spirits\"), currently managed by prathamesh mishra, the team is named after the liquor brand, [royal challenge](https://en.wikipedia.org/wiki/royal_challenge \"royal challenge\"). the [m. chinnaswamy stadium](https://en.wikipedia.org/wiki/m._chinnaswamy_stadium \"m. chinnaswamy stadium\") in bengaluru is their home ground. it is the most popular and followed cricket franchise with more than 18 million followers on [...] |',\n",
       "  '✅ Final Answer: **royal challengers bengaluru**, formerly known as **royal challengers bangalore**, commonly known as **rcb**, is a professional [franchise cricket](https://en.wikipedia.org/wiki/cricket \"cricket\") team based in [bengaluru](https://en.wikipedia.org/wiki/bengaluru \"bengaluru\"), [karnataka](https://en.wikipedia.org/wiki/karnataka \"karnataka\"), competing in the [indian premier league](https://en.wikipedia.org/wiki/indian_premier_league \"indian premier league\"). founded in 2008 by [united [...] spirits](https://en.wikipedia.org/wiki/united_spirits \"united spirits\"), currently managed by prathamesh mishra, the team is named after the liquor brand, [royal challenge](https://en.wikipedia.org/wiki/royal_challenge \"royal challenge\"). the [m. chinnaswamy stadium](https://en.wikipedia.org/wiki/m._chinnaswamy_stadium \"m. chinnaswamy stadium\") in bengaluru is their home ground. it is the most popular and followed cricket franchise with more than 18 million followers on [...] |']}"
      ]
     },
     "execution_count": 785,
     "metadata": {},
     "output_type": "execute_result"
    }
   ],
   "source": [
    "app.invoke(state)"
   ]
  },
  {
   "cell_type": "code",
   "execution_count": 792,
   "id": "954990f0",
   "metadata": {},
   "outputs": [],
   "source": [
    "state1={\"messages\":[\"Hi! my name is Vinay can you tell me today's weather in Bangalore from web?\"]}"
   ]
  },
  {
   "cell_type": "code",
   "execution_count": 793,
   "id": "2b54304f",
   "metadata": {},
   "outputs": [
    {
     "name": "stdout",
     "output_type": "stream",
     "text": [
      "Question:  Hi! my name is Vinay can you tell me today's weather in Bangalore from web?\n",
      "Parsed response:  Topic='Websurfing needed' Reasoning='The query explicitly asks for weather information from the web, indicating a need for web surfing to obtain the answer.'\n",
      "->ROUTER->\n",
      "last_message: Websurfing needed\n",
      "->WEB Call->\n",
      "->Validator->\n",
      "->IN RETRY ROUTER->\n",
      "->IN Final Node->\n"
     ]
    },
    {
     "data": {
      "text/plain": [
       "{'messages': [\"Hi! my name is Vinay can you tell me today's weather in Bangalore from web?\",\n",
       "  'Websurfing needed',\n",
       "  \"Today's Weather in Bengaluru: In Bengaluru today, the weather is expected to be Mostly Cloudy with a maximum temperature of 27°C and a minimum of 22°C.\",\n",
       "  \"today's weather in bengaluru: in bengaluru today, the weather is expected to be mostly cloudy with a maximum temperature of 27°c and a minimum of 22°c.\",\n",
       "  \"✅ Final Answer: today's weather in bengaluru: in bengaluru today, the weather is expected to be mostly cloudy with a maximum temperature of 27°c and a minimum of 22°c.\"]}"
      ]
     },
     "execution_count": 793,
     "metadata": {},
     "output_type": "execute_result"
    }
   ],
   "source": [
    "app.invoke(state1)"
   ]
  },
  {
   "cell_type": "code",
   "execution_count": null,
   "id": "c0dbdd08",
   "metadata": {},
   "outputs": [],
   "source": []
  }
 ],
 "metadata": {
  "kernelspec": {
   "display_name": "Python 3",
   "language": "python",
   "name": "python3"
  },
  "language_info": {
   "codemirror_mode": {
    "name": "ipython",
    "version": 3
   },
   "file_extension": ".py",
   "mimetype": "text/x-python",
   "name": "python",
   "nbconvert_exporter": "python",
   "pygments_lexer": "ipython3",
   "version": "3.13.0"
  }
 },
 "nbformat": 4,
 "nbformat_minor": 5
}
